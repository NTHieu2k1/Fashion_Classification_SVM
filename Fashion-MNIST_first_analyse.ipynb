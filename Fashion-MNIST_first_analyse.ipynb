{
  "nbformat": 4,
  "nbformat_minor": 0,
  "metadata": {
    "colab": {
      "name": "Fashion-MNIST_first_analyse.ipynb",
      "provenance": [],
      "collapsed_sections": [],
      "authorship_tag": "ABX9TyM8MlJ08Uu6vpExyE9/dC6X",
      "include_colab_link": true
    },
    "kernelspec": {
      "name": "python3",
      "display_name": "Python 3"
    },
    "language_info": {
      "name": "python"
    },
    "widgets": {
      "application/vnd.jupyter.widget-state+json": {
        "359446e0e5cb4d9eb489c3c6acce9967": {
          "model_module": "@jupyter-widgets/controls",
          "model_name": "HBoxModel",
          "state": {
            "_view_name": "HBoxView",
            "_dom_classes": [],
            "_model_name": "HBoxModel",
            "_view_module": "@jupyter-widgets/controls",
            "_model_module_version": "1.5.0",
            "_view_count": null,
            "_view_module_version": "1.5.0",
            "box_style": "",
            "layout": "IPY_MODEL_0811ff0681c041cb8ba9e5cca33e9cbb",
            "_model_module": "@jupyter-widgets/controls",
            "children": [
              "IPY_MODEL_aef9207283004f4eb7c3abcc9975f9ea",
              "IPY_MODEL_ccfdc3a9c5c84a31a5f5a39959a629b6"
            ]
          }
        },
        "0811ff0681c041cb8ba9e5cca33e9cbb": {
          "model_module": "@jupyter-widgets/base",
          "model_name": "LayoutModel",
          "state": {
            "_view_name": "LayoutView",
            "grid_template_rows": null,
            "right": null,
            "justify_content": null,
            "_view_module": "@jupyter-widgets/base",
            "overflow": null,
            "_model_module_version": "1.2.0",
            "_view_count": null,
            "flex_flow": null,
            "width": null,
            "min_width": null,
            "border": null,
            "align_items": null,
            "bottom": null,
            "_model_module": "@jupyter-widgets/base",
            "top": null,
            "grid_column": null,
            "overflow_y": null,
            "overflow_x": null,
            "grid_auto_flow": null,
            "grid_area": null,
            "grid_template_columns": null,
            "flex": null,
            "_model_name": "LayoutModel",
            "justify_items": null,
            "grid_row": null,
            "max_height": null,
            "align_content": null,
            "visibility": null,
            "align_self": null,
            "height": null,
            "min_height": null,
            "padding": null,
            "grid_auto_rows": null,
            "grid_gap": null,
            "max_width": null,
            "order": null,
            "_view_module_version": "1.2.0",
            "grid_template_areas": null,
            "object_position": null,
            "object_fit": null,
            "grid_auto_columns": null,
            "margin": null,
            "display": null,
            "left": null
          }
        },
        "aef9207283004f4eb7c3abcc9975f9ea": {
          "model_module": "@jupyter-widgets/controls",
          "model_name": "FloatProgressModel",
          "state": {
            "_view_name": "ProgressView",
            "style": "IPY_MODEL_bd4da9fcd39449b8aad603ac370856ce",
            "_dom_classes": [],
            "description": "",
            "_model_name": "FloatProgressModel",
            "bar_style": "success",
            "max": 26421880,
            "_view_module": "@jupyter-widgets/controls",
            "_model_module_version": "1.5.0",
            "value": 26421880,
            "_view_count": null,
            "_view_module_version": "1.5.0",
            "orientation": "horizontal",
            "min": 0,
            "description_tooltip": null,
            "_model_module": "@jupyter-widgets/controls",
            "layout": "IPY_MODEL_ccde310cf16f4943b99c1b2bc16d96c2"
          }
        },
        "ccfdc3a9c5c84a31a5f5a39959a629b6": {
          "model_module": "@jupyter-widgets/controls",
          "model_name": "HTMLModel",
          "state": {
            "_view_name": "HTMLView",
            "style": "IPY_MODEL_79a13965051345b392d25e639b947be0",
            "_dom_classes": [],
            "description": "",
            "_model_name": "HTMLModel",
            "placeholder": "​",
            "_view_module": "@jupyter-widgets/controls",
            "_model_module_version": "1.5.0",
            "value": " 26422272/? [01:56&lt;00:00, 227480.67it/s]",
            "_view_count": null,
            "_view_module_version": "1.5.0",
            "description_tooltip": null,
            "_model_module": "@jupyter-widgets/controls",
            "layout": "IPY_MODEL_44b7801f5e994e549b4f49766d7f5f19"
          }
        },
        "bd4da9fcd39449b8aad603ac370856ce": {
          "model_module": "@jupyter-widgets/controls",
          "model_name": "ProgressStyleModel",
          "state": {
            "_view_name": "StyleView",
            "_model_name": "ProgressStyleModel",
            "description_width": "initial",
            "_view_module": "@jupyter-widgets/base",
            "_model_module_version": "1.5.0",
            "_view_count": null,
            "_view_module_version": "1.2.0",
            "bar_color": null,
            "_model_module": "@jupyter-widgets/controls"
          }
        },
        "ccde310cf16f4943b99c1b2bc16d96c2": {
          "model_module": "@jupyter-widgets/base",
          "model_name": "LayoutModel",
          "state": {
            "_view_name": "LayoutView",
            "grid_template_rows": null,
            "right": null,
            "justify_content": null,
            "_view_module": "@jupyter-widgets/base",
            "overflow": null,
            "_model_module_version": "1.2.0",
            "_view_count": null,
            "flex_flow": null,
            "width": null,
            "min_width": null,
            "border": null,
            "align_items": null,
            "bottom": null,
            "_model_module": "@jupyter-widgets/base",
            "top": null,
            "grid_column": null,
            "overflow_y": null,
            "overflow_x": null,
            "grid_auto_flow": null,
            "grid_area": null,
            "grid_template_columns": null,
            "flex": null,
            "_model_name": "LayoutModel",
            "justify_items": null,
            "grid_row": null,
            "max_height": null,
            "align_content": null,
            "visibility": null,
            "align_self": null,
            "height": null,
            "min_height": null,
            "padding": null,
            "grid_auto_rows": null,
            "grid_gap": null,
            "max_width": null,
            "order": null,
            "_view_module_version": "1.2.0",
            "grid_template_areas": null,
            "object_position": null,
            "object_fit": null,
            "grid_auto_columns": null,
            "margin": null,
            "display": null,
            "left": null
          }
        },
        "79a13965051345b392d25e639b947be0": {
          "model_module": "@jupyter-widgets/controls",
          "model_name": "DescriptionStyleModel",
          "state": {
            "_view_name": "StyleView",
            "_model_name": "DescriptionStyleModel",
            "description_width": "",
            "_view_module": "@jupyter-widgets/base",
            "_model_module_version": "1.5.0",
            "_view_count": null,
            "_view_module_version": "1.2.0",
            "_model_module": "@jupyter-widgets/controls"
          }
        },
        "44b7801f5e994e549b4f49766d7f5f19": {
          "model_module": "@jupyter-widgets/base",
          "model_name": "LayoutModel",
          "state": {
            "_view_name": "LayoutView",
            "grid_template_rows": null,
            "right": null,
            "justify_content": null,
            "_view_module": "@jupyter-widgets/base",
            "overflow": null,
            "_model_module_version": "1.2.0",
            "_view_count": null,
            "flex_flow": null,
            "width": null,
            "min_width": null,
            "border": null,
            "align_items": null,
            "bottom": null,
            "_model_module": "@jupyter-widgets/base",
            "top": null,
            "grid_column": null,
            "overflow_y": null,
            "overflow_x": null,
            "grid_auto_flow": null,
            "grid_area": null,
            "grid_template_columns": null,
            "flex": null,
            "_model_name": "LayoutModel",
            "justify_items": null,
            "grid_row": null,
            "max_height": null,
            "align_content": null,
            "visibility": null,
            "align_self": null,
            "height": null,
            "min_height": null,
            "padding": null,
            "grid_auto_rows": null,
            "grid_gap": null,
            "max_width": null,
            "order": null,
            "_view_module_version": "1.2.0",
            "grid_template_areas": null,
            "object_position": null,
            "object_fit": null,
            "grid_auto_columns": null,
            "margin": null,
            "display": null,
            "left": null
          }
        },
        "d2fe42fac58b40ca9a44bff7c13affb0": {
          "model_module": "@jupyter-widgets/controls",
          "model_name": "HBoxModel",
          "state": {
            "_view_name": "HBoxView",
            "_dom_classes": [],
            "_model_name": "HBoxModel",
            "_view_module": "@jupyter-widgets/controls",
            "_model_module_version": "1.5.0",
            "_view_count": null,
            "_view_module_version": "1.5.0",
            "box_style": "",
            "layout": "IPY_MODEL_cd989ca5e8e64194ad6e99aa5874d296",
            "_model_module": "@jupyter-widgets/controls",
            "children": [
              "IPY_MODEL_53bda3919c6f4a3996dc1b197fe4197c",
              "IPY_MODEL_077c36f659da46ea936f360f6027cf4f"
            ]
          }
        },
        "cd989ca5e8e64194ad6e99aa5874d296": {
          "model_module": "@jupyter-widgets/base",
          "model_name": "LayoutModel",
          "state": {
            "_view_name": "LayoutView",
            "grid_template_rows": null,
            "right": null,
            "justify_content": null,
            "_view_module": "@jupyter-widgets/base",
            "overflow": null,
            "_model_module_version": "1.2.0",
            "_view_count": null,
            "flex_flow": null,
            "width": null,
            "min_width": null,
            "border": null,
            "align_items": null,
            "bottom": null,
            "_model_module": "@jupyter-widgets/base",
            "top": null,
            "grid_column": null,
            "overflow_y": null,
            "overflow_x": null,
            "grid_auto_flow": null,
            "grid_area": null,
            "grid_template_columns": null,
            "flex": null,
            "_model_name": "LayoutModel",
            "justify_items": null,
            "grid_row": null,
            "max_height": null,
            "align_content": null,
            "visibility": null,
            "align_self": null,
            "height": null,
            "min_height": null,
            "padding": null,
            "grid_auto_rows": null,
            "grid_gap": null,
            "max_width": null,
            "order": null,
            "_view_module_version": "1.2.0",
            "grid_template_areas": null,
            "object_position": null,
            "object_fit": null,
            "grid_auto_columns": null,
            "margin": null,
            "display": null,
            "left": null
          }
        },
        "53bda3919c6f4a3996dc1b197fe4197c": {
          "model_module": "@jupyter-widgets/controls",
          "model_name": "FloatProgressModel",
          "state": {
            "_view_name": "ProgressView",
            "style": "IPY_MODEL_a89ce52b1d5b4256b2d45386e2fc18bd",
            "_dom_classes": [],
            "description": "",
            "_model_name": "FloatProgressModel",
            "bar_style": "success",
            "max": 29515,
            "_view_module": "@jupyter-widgets/controls",
            "_model_module_version": "1.5.0",
            "value": 29515,
            "_view_count": null,
            "_view_module_version": "1.5.0",
            "orientation": "horizontal",
            "min": 0,
            "description_tooltip": null,
            "_model_module": "@jupyter-widgets/controls",
            "layout": "IPY_MODEL_a2b0e1092b574b289c7da0d3e18918b9"
          }
        },
        "077c36f659da46ea936f360f6027cf4f": {
          "model_module": "@jupyter-widgets/controls",
          "model_name": "HTMLModel",
          "state": {
            "_view_name": "HTMLView",
            "style": "IPY_MODEL_a3945677d5804759845c1b4abb9a41ce",
            "_dom_classes": [],
            "description": "",
            "_model_name": "HTMLModel",
            "placeholder": "​",
            "_view_module": "@jupyter-widgets/controls",
            "_model_module_version": "1.5.0",
            "value": " 29696/? [00:00&lt;00:00, 46231.38it/s]",
            "_view_count": null,
            "_view_module_version": "1.5.0",
            "description_tooltip": null,
            "_model_module": "@jupyter-widgets/controls",
            "layout": "IPY_MODEL_2a042e91262e4764ab052304bb7b7c1c"
          }
        },
        "a89ce52b1d5b4256b2d45386e2fc18bd": {
          "model_module": "@jupyter-widgets/controls",
          "model_name": "ProgressStyleModel",
          "state": {
            "_view_name": "StyleView",
            "_model_name": "ProgressStyleModel",
            "description_width": "initial",
            "_view_module": "@jupyter-widgets/base",
            "_model_module_version": "1.5.0",
            "_view_count": null,
            "_view_module_version": "1.2.0",
            "bar_color": null,
            "_model_module": "@jupyter-widgets/controls"
          }
        },
        "a2b0e1092b574b289c7da0d3e18918b9": {
          "model_module": "@jupyter-widgets/base",
          "model_name": "LayoutModel",
          "state": {
            "_view_name": "LayoutView",
            "grid_template_rows": null,
            "right": null,
            "justify_content": null,
            "_view_module": "@jupyter-widgets/base",
            "overflow": null,
            "_model_module_version": "1.2.0",
            "_view_count": null,
            "flex_flow": null,
            "width": null,
            "min_width": null,
            "border": null,
            "align_items": null,
            "bottom": null,
            "_model_module": "@jupyter-widgets/base",
            "top": null,
            "grid_column": null,
            "overflow_y": null,
            "overflow_x": null,
            "grid_auto_flow": null,
            "grid_area": null,
            "grid_template_columns": null,
            "flex": null,
            "_model_name": "LayoutModel",
            "justify_items": null,
            "grid_row": null,
            "max_height": null,
            "align_content": null,
            "visibility": null,
            "align_self": null,
            "height": null,
            "min_height": null,
            "padding": null,
            "grid_auto_rows": null,
            "grid_gap": null,
            "max_width": null,
            "order": null,
            "_view_module_version": "1.2.0",
            "grid_template_areas": null,
            "object_position": null,
            "object_fit": null,
            "grid_auto_columns": null,
            "margin": null,
            "display": null,
            "left": null
          }
        },
        "a3945677d5804759845c1b4abb9a41ce": {
          "model_module": "@jupyter-widgets/controls",
          "model_name": "DescriptionStyleModel",
          "state": {
            "_view_name": "StyleView",
            "_model_name": "DescriptionStyleModel",
            "description_width": "",
            "_view_module": "@jupyter-widgets/base",
            "_model_module_version": "1.5.0",
            "_view_count": null,
            "_view_module_version": "1.2.0",
            "_model_module": "@jupyter-widgets/controls"
          }
        },
        "2a042e91262e4764ab052304bb7b7c1c": {
          "model_module": "@jupyter-widgets/base",
          "model_name": "LayoutModel",
          "state": {
            "_view_name": "LayoutView",
            "grid_template_rows": null,
            "right": null,
            "justify_content": null,
            "_view_module": "@jupyter-widgets/base",
            "overflow": null,
            "_model_module_version": "1.2.0",
            "_view_count": null,
            "flex_flow": null,
            "width": null,
            "min_width": null,
            "border": null,
            "align_items": null,
            "bottom": null,
            "_model_module": "@jupyter-widgets/base",
            "top": null,
            "grid_column": null,
            "overflow_y": null,
            "overflow_x": null,
            "grid_auto_flow": null,
            "grid_area": null,
            "grid_template_columns": null,
            "flex": null,
            "_model_name": "LayoutModel",
            "justify_items": null,
            "grid_row": null,
            "max_height": null,
            "align_content": null,
            "visibility": null,
            "align_self": null,
            "height": null,
            "min_height": null,
            "padding": null,
            "grid_auto_rows": null,
            "grid_gap": null,
            "max_width": null,
            "order": null,
            "_view_module_version": "1.2.0",
            "grid_template_areas": null,
            "object_position": null,
            "object_fit": null,
            "grid_auto_columns": null,
            "margin": null,
            "display": null,
            "left": null
          }
        },
        "c865c2626f4c46ed9234393bafe0b0f1": {
          "model_module": "@jupyter-widgets/controls",
          "model_name": "HBoxModel",
          "state": {
            "_view_name": "HBoxView",
            "_dom_classes": [],
            "_model_name": "HBoxModel",
            "_view_module": "@jupyter-widgets/controls",
            "_model_module_version": "1.5.0",
            "_view_count": null,
            "_view_module_version": "1.5.0",
            "box_style": "",
            "layout": "IPY_MODEL_9c3cbfa0475f43808a5d8ec10bc01bed",
            "_model_module": "@jupyter-widgets/controls",
            "children": [
              "IPY_MODEL_711d6af922304be6b3585b76a69e29ab",
              "IPY_MODEL_e7b9947b7f864615b3d872eec6134ca4"
            ]
          }
        },
        "9c3cbfa0475f43808a5d8ec10bc01bed": {
          "model_module": "@jupyter-widgets/base",
          "model_name": "LayoutModel",
          "state": {
            "_view_name": "LayoutView",
            "grid_template_rows": null,
            "right": null,
            "justify_content": null,
            "_view_module": "@jupyter-widgets/base",
            "overflow": null,
            "_model_module_version": "1.2.0",
            "_view_count": null,
            "flex_flow": null,
            "width": null,
            "min_width": null,
            "border": null,
            "align_items": null,
            "bottom": null,
            "_model_module": "@jupyter-widgets/base",
            "top": null,
            "grid_column": null,
            "overflow_y": null,
            "overflow_x": null,
            "grid_auto_flow": null,
            "grid_area": null,
            "grid_template_columns": null,
            "flex": null,
            "_model_name": "LayoutModel",
            "justify_items": null,
            "grid_row": null,
            "max_height": null,
            "align_content": null,
            "visibility": null,
            "align_self": null,
            "height": null,
            "min_height": null,
            "padding": null,
            "grid_auto_rows": null,
            "grid_gap": null,
            "max_width": null,
            "order": null,
            "_view_module_version": "1.2.0",
            "grid_template_areas": null,
            "object_position": null,
            "object_fit": null,
            "grid_auto_columns": null,
            "margin": null,
            "display": null,
            "left": null
          }
        },
        "711d6af922304be6b3585b76a69e29ab": {
          "model_module": "@jupyter-widgets/controls",
          "model_name": "FloatProgressModel",
          "state": {
            "_view_name": "ProgressView",
            "style": "IPY_MODEL_f0128b52b79f42d49077358bad104f4a",
            "_dom_classes": [],
            "description": "",
            "_model_name": "FloatProgressModel",
            "bar_style": "success",
            "max": 4422102,
            "_view_module": "@jupyter-widgets/controls",
            "_model_module_version": "1.5.0",
            "value": 4422102,
            "_view_count": null,
            "_view_module_version": "1.5.0",
            "orientation": "horizontal",
            "min": 0,
            "description_tooltip": null,
            "_model_module": "@jupyter-widgets/controls",
            "layout": "IPY_MODEL_59278e219740419f93088bb1113aab68"
          }
        },
        "e7b9947b7f864615b3d872eec6134ca4": {
          "model_module": "@jupyter-widgets/controls",
          "model_name": "HTMLModel",
          "state": {
            "_view_name": "HTMLView",
            "style": "IPY_MODEL_302608ddeb2c4b40b4fbbea215464486",
            "_dom_classes": [],
            "description": "",
            "_model_name": "HTMLModel",
            "placeholder": "​",
            "_view_module": "@jupyter-widgets/controls",
            "_model_module_version": "1.5.0",
            "value": " 4422656/? [01:52&lt;00:00, 39198.20it/s]",
            "_view_count": null,
            "_view_module_version": "1.5.0",
            "description_tooltip": null,
            "_model_module": "@jupyter-widgets/controls",
            "layout": "IPY_MODEL_9002f83b7dff4405b0234119b323da0d"
          }
        },
        "f0128b52b79f42d49077358bad104f4a": {
          "model_module": "@jupyter-widgets/controls",
          "model_name": "ProgressStyleModel",
          "state": {
            "_view_name": "StyleView",
            "_model_name": "ProgressStyleModel",
            "description_width": "initial",
            "_view_module": "@jupyter-widgets/base",
            "_model_module_version": "1.5.0",
            "_view_count": null,
            "_view_module_version": "1.2.0",
            "bar_color": null,
            "_model_module": "@jupyter-widgets/controls"
          }
        },
        "59278e219740419f93088bb1113aab68": {
          "model_module": "@jupyter-widgets/base",
          "model_name": "LayoutModel",
          "state": {
            "_view_name": "LayoutView",
            "grid_template_rows": null,
            "right": null,
            "justify_content": null,
            "_view_module": "@jupyter-widgets/base",
            "overflow": null,
            "_model_module_version": "1.2.0",
            "_view_count": null,
            "flex_flow": null,
            "width": null,
            "min_width": null,
            "border": null,
            "align_items": null,
            "bottom": null,
            "_model_module": "@jupyter-widgets/base",
            "top": null,
            "grid_column": null,
            "overflow_y": null,
            "overflow_x": null,
            "grid_auto_flow": null,
            "grid_area": null,
            "grid_template_columns": null,
            "flex": null,
            "_model_name": "LayoutModel",
            "justify_items": null,
            "grid_row": null,
            "max_height": null,
            "align_content": null,
            "visibility": null,
            "align_self": null,
            "height": null,
            "min_height": null,
            "padding": null,
            "grid_auto_rows": null,
            "grid_gap": null,
            "max_width": null,
            "order": null,
            "_view_module_version": "1.2.0",
            "grid_template_areas": null,
            "object_position": null,
            "object_fit": null,
            "grid_auto_columns": null,
            "margin": null,
            "display": null,
            "left": null
          }
        },
        "302608ddeb2c4b40b4fbbea215464486": {
          "model_module": "@jupyter-widgets/controls",
          "model_name": "DescriptionStyleModel",
          "state": {
            "_view_name": "StyleView",
            "_model_name": "DescriptionStyleModel",
            "description_width": "",
            "_view_module": "@jupyter-widgets/base",
            "_model_module_version": "1.5.0",
            "_view_count": null,
            "_view_module_version": "1.2.0",
            "_model_module": "@jupyter-widgets/controls"
          }
        },
        "9002f83b7dff4405b0234119b323da0d": {
          "model_module": "@jupyter-widgets/base",
          "model_name": "LayoutModel",
          "state": {
            "_view_name": "LayoutView",
            "grid_template_rows": null,
            "right": null,
            "justify_content": null,
            "_view_module": "@jupyter-widgets/base",
            "overflow": null,
            "_model_module_version": "1.2.0",
            "_view_count": null,
            "flex_flow": null,
            "width": null,
            "min_width": null,
            "border": null,
            "align_items": null,
            "bottom": null,
            "_model_module": "@jupyter-widgets/base",
            "top": null,
            "grid_column": null,
            "overflow_y": null,
            "overflow_x": null,
            "grid_auto_flow": null,
            "grid_area": null,
            "grid_template_columns": null,
            "flex": null,
            "_model_name": "LayoutModel",
            "justify_items": null,
            "grid_row": null,
            "max_height": null,
            "align_content": null,
            "visibility": null,
            "align_self": null,
            "height": null,
            "min_height": null,
            "padding": null,
            "grid_auto_rows": null,
            "grid_gap": null,
            "max_width": null,
            "order": null,
            "_view_module_version": "1.2.0",
            "grid_template_areas": null,
            "object_position": null,
            "object_fit": null,
            "grid_auto_columns": null,
            "margin": null,
            "display": null,
            "left": null
          }
        },
        "a1309cee9ae74ec3849e4ba8bd8aff45": {
          "model_module": "@jupyter-widgets/controls",
          "model_name": "HBoxModel",
          "state": {
            "_view_name": "HBoxView",
            "_dom_classes": [],
            "_model_name": "HBoxModel",
            "_view_module": "@jupyter-widgets/controls",
            "_model_module_version": "1.5.0",
            "_view_count": null,
            "_view_module_version": "1.5.0",
            "box_style": "",
            "layout": "IPY_MODEL_d53d5e0258b14afcb9dfd84faadbd66b",
            "_model_module": "@jupyter-widgets/controls",
            "children": [
              "IPY_MODEL_4fba322419d54ac78f533371cc77656f",
              "IPY_MODEL_f0f2fff51aab4658ad5ce507e27825f6"
            ]
          }
        },
        "d53d5e0258b14afcb9dfd84faadbd66b": {
          "model_module": "@jupyter-widgets/base",
          "model_name": "LayoutModel",
          "state": {
            "_view_name": "LayoutView",
            "grid_template_rows": null,
            "right": null,
            "justify_content": null,
            "_view_module": "@jupyter-widgets/base",
            "overflow": null,
            "_model_module_version": "1.2.0",
            "_view_count": null,
            "flex_flow": null,
            "width": null,
            "min_width": null,
            "border": null,
            "align_items": null,
            "bottom": null,
            "_model_module": "@jupyter-widgets/base",
            "top": null,
            "grid_column": null,
            "overflow_y": null,
            "overflow_x": null,
            "grid_auto_flow": null,
            "grid_area": null,
            "grid_template_columns": null,
            "flex": null,
            "_model_name": "LayoutModel",
            "justify_items": null,
            "grid_row": null,
            "max_height": null,
            "align_content": null,
            "visibility": null,
            "align_self": null,
            "height": null,
            "min_height": null,
            "padding": null,
            "grid_auto_rows": null,
            "grid_gap": null,
            "max_width": null,
            "order": null,
            "_view_module_version": "1.2.0",
            "grid_template_areas": null,
            "object_position": null,
            "object_fit": null,
            "grid_auto_columns": null,
            "margin": null,
            "display": null,
            "left": null
          }
        },
        "4fba322419d54ac78f533371cc77656f": {
          "model_module": "@jupyter-widgets/controls",
          "model_name": "FloatProgressModel",
          "state": {
            "_view_name": "ProgressView",
            "style": "IPY_MODEL_05d7b1dce5b847158e8d7f9f2a07c4cf",
            "_dom_classes": [],
            "description": "",
            "_model_name": "FloatProgressModel",
            "bar_style": "success",
            "max": 5148,
            "_view_module": "@jupyter-widgets/controls",
            "_model_module_version": "1.5.0",
            "value": 5148,
            "_view_count": null,
            "_view_module_version": "1.5.0",
            "orientation": "horizontal",
            "min": 0,
            "description_tooltip": null,
            "_model_module": "@jupyter-widgets/controls",
            "layout": "IPY_MODEL_6601960ab6794e76b068513565418ec0"
          }
        },
        "f0f2fff51aab4658ad5ce507e27825f6": {
          "model_module": "@jupyter-widgets/controls",
          "model_name": "HTMLModel",
          "state": {
            "_view_name": "HTMLView",
            "style": "IPY_MODEL_74a1885562044dc1a5c88b7e8e734136",
            "_dom_classes": [],
            "description": "",
            "_model_name": "HTMLModel",
            "placeholder": "​",
            "_view_module": "@jupyter-widgets/controls",
            "_model_module_version": "1.5.0",
            "value": " 6144/? [00:03&lt;00:00, 1855.98it/s]",
            "_view_count": null,
            "_view_module_version": "1.5.0",
            "description_tooltip": null,
            "_model_module": "@jupyter-widgets/controls",
            "layout": "IPY_MODEL_88fb06a445104934bdf0fcddd266ec24"
          }
        },
        "05d7b1dce5b847158e8d7f9f2a07c4cf": {
          "model_module": "@jupyter-widgets/controls",
          "model_name": "ProgressStyleModel",
          "state": {
            "_view_name": "StyleView",
            "_model_name": "ProgressStyleModel",
            "description_width": "initial",
            "_view_module": "@jupyter-widgets/base",
            "_model_module_version": "1.5.0",
            "_view_count": null,
            "_view_module_version": "1.2.0",
            "bar_color": null,
            "_model_module": "@jupyter-widgets/controls"
          }
        },
        "6601960ab6794e76b068513565418ec0": {
          "model_module": "@jupyter-widgets/base",
          "model_name": "LayoutModel",
          "state": {
            "_view_name": "LayoutView",
            "grid_template_rows": null,
            "right": null,
            "justify_content": null,
            "_view_module": "@jupyter-widgets/base",
            "overflow": null,
            "_model_module_version": "1.2.0",
            "_view_count": null,
            "flex_flow": null,
            "width": null,
            "min_width": null,
            "border": null,
            "align_items": null,
            "bottom": null,
            "_model_module": "@jupyter-widgets/base",
            "top": null,
            "grid_column": null,
            "overflow_y": null,
            "overflow_x": null,
            "grid_auto_flow": null,
            "grid_area": null,
            "grid_template_columns": null,
            "flex": null,
            "_model_name": "LayoutModel",
            "justify_items": null,
            "grid_row": null,
            "max_height": null,
            "align_content": null,
            "visibility": null,
            "align_self": null,
            "height": null,
            "min_height": null,
            "padding": null,
            "grid_auto_rows": null,
            "grid_gap": null,
            "max_width": null,
            "order": null,
            "_view_module_version": "1.2.0",
            "grid_template_areas": null,
            "object_position": null,
            "object_fit": null,
            "grid_auto_columns": null,
            "margin": null,
            "display": null,
            "left": null
          }
        },
        "74a1885562044dc1a5c88b7e8e734136": {
          "model_module": "@jupyter-widgets/controls",
          "model_name": "DescriptionStyleModel",
          "state": {
            "_view_name": "StyleView",
            "_model_name": "DescriptionStyleModel",
            "description_width": "",
            "_view_module": "@jupyter-widgets/base",
            "_model_module_version": "1.5.0",
            "_view_count": null,
            "_view_module_version": "1.2.0",
            "_model_module": "@jupyter-widgets/controls"
          }
        },
        "88fb06a445104934bdf0fcddd266ec24": {
          "model_module": "@jupyter-widgets/base",
          "model_name": "LayoutModel",
          "state": {
            "_view_name": "LayoutView",
            "grid_template_rows": null,
            "right": null,
            "justify_content": null,
            "_view_module": "@jupyter-widgets/base",
            "overflow": null,
            "_model_module_version": "1.2.0",
            "_view_count": null,
            "flex_flow": null,
            "width": null,
            "min_width": null,
            "border": null,
            "align_items": null,
            "bottom": null,
            "_model_module": "@jupyter-widgets/base",
            "top": null,
            "grid_column": null,
            "overflow_y": null,
            "overflow_x": null,
            "grid_auto_flow": null,
            "grid_area": null,
            "grid_template_columns": null,
            "flex": null,
            "_model_name": "LayoutModel",
            "justify_items": null,
            "grid_row": null,
            "max_height": null,
            "align_content": null,
            "visibility": null,
            "align_self": null,
            "height": null,
            "min_height": null,
            "padding": null,
            "grid_auto_rows": null,
            "grid_gap": null,
            "max_width": null,
            "order": null,
            "_view_module_version": "1.2.0",
            "grid_template_areas": null,
            "object_position": null,
            "object_fit": null,
            "grid_auto_columns": null,
            "margin": null,
            "display": null,
            "left": null
          }
        },
        "014b535ca8c54855b3a7f98f0ba422e5": {
          "model_module": "@jupyter-widgets/controls",
          "model_name": "HBoxModel",
          "state": {
            "_view_name": "HBoxView",
            "_dom_classes": [],
            "_model_name": "HBoxModel",
            "_view_module": "@jupyter-widgets/controls",
            "_model_module_version": "1.5.0",
            "_view_count": null,
            "_view_module_version": "1.5.0",
            "box_style": "",
            "layout": "IPY_MODEL_669ad9428f214419aaf340b3681febeb",
            "_model_module": "@jupyter-widgets/controls",
            "children": [
              "IPY_MODEL_5101507bb6f143c097d0f8f09435fd61",
              "IPY_MODEL_45e5d22061bd41a985d055141a5dadd5"
            ]
          }
        },
        "669ad9428f214419aaf340b3681febeb": {
          "model_module": "@jupyter-widgets/base",
          "model_name": "LayoutModel",
          "state": {
            "_view_name": "LayoutView",
            "grid_template_rows": null,
            "right": null,
            "justify_content": null,
            "_view_module": "@jupyter-widgets/base",
            "overflow": null,
            "_model_module_version": "1.2.0",
            "_view_count": null,
            "flex_flow": null,
            "width": null,
            "min_width": null,
            "border": null,
            "align_items": null,
            "bottom": null,
            "_model_module": "@jupyter-widgets/base",
            "top": null,
            "grid_column": null,
            "overflow_y": null,
            "overflow_x": null,
            "grid_auto_flow": null,
            "grid_area": null,
            "grid_template_columns": null,
            "flex": null,
            "_model_name": "LayoutModel",
            "justify_items": null,
            "grid_row": null,
            "max_height": null,
            "align_content": null,
            "visibility": null,
            "align_self": null,
            "height": null,
            "min_height": null,
            "padding": null,
            "grid_auto_rows": null,
            "grid_gap": null,
            "max_width": null,
            "order": null,
            "_view_module_version": "1.2.0",
            "grid_template_areas": null,
            "object_position": null,
            "object_fit": null,
            "grid_auto_columns": null,
            "margin": null,
            "display": null,
            "left": null
          }
        },
        "5101507bb6f143c097d0f8f09435fd61": {
          "model_module": "@jupyter-widgets/controls",
          "model_name": "FloatProgressModel",
          "state": {
            "_view_name": "ProgressView",
            "style": "IPY_MODEL_6bc933eefad94cb2a7945f93998eb1c2",
            "_dom_classes": [],
            "description": "",
            "_model_name": "FloatProgressModel",
            "bar_style": "success",
            "max": 26421880,
            "_view_module": "@jupyter-widgets/controls",
            "_model_module_version": "1.5.0",
            "value": 26421880,
            "_view_count": null,
            "_view_module_version": "1.5.0",
            "orientation": "horizontal",
            "min": 0,
            "description_tooltip": null,
            "_model_module": "@jupyter-widgets/controls",
            "layout": "IPY_MODEL_940211cb7675457cab60ae844b524da7"
          }
        },
        "45e5d22061bd41a985d055141a5dadd5": {
          "model_module": "@jupyter-widgets/controls",
          "model_name": "HTMLModel",
          "state": {
            "_view_name": "HTMLView",
            "style": "IPY_MODEL_462b4bea25764e84aa8ab8610f85bd4e",
            "_dom_classes": [],
            "description": "",
            "_model_name": "HTMLModel",
            "placeholder": "​",
            "_view_module": "@jupyter-widgets/controls",
            "_model_module_version": "1.5.0",
            "value": " 26422272/? [00:02&lt;00:00, 9598983.72it/s]",
            "_view_count": null,
            "_view_module_version": "1.5.0",
            "description_tooltip": null,
            "_model_module": "@jupyter-widgets/controls",
            "layout": "IPY_MODEL_1e619aeb099647bb93a7ec45dc9fb287"
          }
        },
        "6bc933eefad94cb2a7945f93998eb1c2": {
          "model_module": "@jupyter-widgets/controls",
          "model_name": "ProgressStyleModel",
          "state": {
            "_view_name": "StyleView",
            "_model_name": "ProgressStyleModel",
            "description_width": "initial",
            "_view_module": "@jupyter-widgets/base",
            "_model_module_version": "1.5.0",
            "_view_count": null,
            "_view_module_version": "1.2.0",
            "bar_color": null,
            "_model_module": "@jupyter-widgets/controls"
          }
        },
        "940211cb7675457cab60ae844b524da7": {
          "model_module": "@jupyter-widgets/base",
          "model_name": "LayoutModel",
          "state": {
            "_view_name": "LayoutView",
            "grid_template_rows": null,
            "right": null,
            "justify_content": null,
            "_view_module": "@jupyter-widgets/base",
            "overflow": null,
            "_model_module_version": "1.2.0",
            "_view_count": null,
            "flex_flow": null,
            "width": null,
            "min_width": null,
            "border": null,
            "align_items": null,
            "bottom": null,
            "_model_module": "@jupyter-widgets/base",
            "top": null,
            "grid_column": null,
            "overflow_y": null,
            "overflow_x": null,
            "grid_auto_flow": null,
            "grid_area": null,
            "grid_template_columns": null,
            "flex": null,
            "_model_name": "LayoutModel",
            "justify_items": null,
            "grid_row": null,
            "max_height": null,
            "align_content": null,
            "visibility": null,
            "align_self": null,
            "height": null,
            "min_height": null,
            "padding": null,
            "grid_auto_rows": null,
            "grid_gap": null,
            "max_width": null,
            "order": null,
            "_view_module_version": "1.2.0",
            "grid_template_areas": null,
            "object_position": null,
            "object_fit": null,
            "grid_auto_columns": null,
            "margin": null,
            "display": null,
            "left": null
          }
        },
        "462b4bea25764e84aa8ab8610f85bd4e": {
          "model_module": "@jupyter-widgets/controls",
          "model_name": "DescriptionStyleModel",
          "state": {
            "_view_name": "StyleView",
            "_model_name": "DescriptionStyleModel",
            "description_width": "",
            "_view_module": "@jupyter-widgets/base",
            "_model_module_version": "1.5.0",
            "_view_count": null,
            "_view_module_version": "1.2.0",
            "_model_module": "@jupyter-widgets/controls"
          }
        },
        "1e619aeb099647bb93a7ec45dc9fb287": {
          "model_module": "@jupyter-widgets/base",
          "model_name": "LayoutModel",
          "state": {
            "_view_name": "LayoutView",
            "grid_template_rows": null,
            "right": null,
            "justify_content": null,
            "_view_module": "@jupyter-widgets/base",
            "overflow": null,
            "_model_module_version": "1.2.0",
            "_view_count": null,
            "flex_flow": null,
            "width": null,
            "min_width": null,
            "border": null,
            "align_items": null,
            "bottom": null,
            "_model_module": "@jupyter-widgets/base",
            "top": null,
            "grid_column": null,
            "overflow_y": null,
            "overflow_x": null,
            "grid_auto_flow": null,
            "grid_area": null,
            "grid_template_columns": null,
            "flex": null,
            "_model_name": "LayoutModel",
            "justify_items": null,
            "grid_row": null,
            "max_height": null,
            "align_content": null,
            "visibility": null,
            "align_self": null,
            "height": null,
            "min_height": null,
            "padding": null,
            "grid_auto_rows": null,
            "grid_gap": null,
            "max_width": null,
            "order": null,
            "_view_module_version": "1.2.0",
            "grid_template_areas": null,
            "object_position": null,
            "object_fit": null,
            "grid_auto_columns": null,
            "margin": null,
            "display": null,
            "left": null
          }
        },
        "ceb108c5d6f244d68dac35102990aa86": {
          "model_module": "@jupyter-widgets/controls",
          "model_name": "HBoxModel",
          "state": {
            "_view_name": "HBoxView",
            "_dom_classes": [],
            "_model_name": "HBoxModel",
            "_view_module": "@jupyter-widgets/controls",
            "_model_module_version": "1.5.0",
            "_view_count": null,
            "_view_module_version": "1.5.0",
            "box_style": "",
            "layout": "IPY_MODEL_7f32014864cb4ab8a45a9075e0bbaaca",
            "_model_module": "@jupyter-widgets/controls",
            "children": [
              "IPY_MODEL_28cac098dddb4dba89a11d9ce6137981",
              "IPY_MODEL_5b4ee5efa0284dd9835f991b978c4792"
            ]
          }
        },
        "7f32014864cb4ab8a45a9075e0bbaaca": {
          "model_module": "@jupyter-widgets/base",
          "model_name": "LayoutModel",
          "state": {
            "_view_name": "LayoutView",
            "grid_template_rows": null,
            "right": null,
            "justify_content": null,
            "_view_module": "@jupyter-widgets/base",
            "overflow": null,
            "_model_module_version": "1.2.0",
            "_view_count": null,
            "flex_flow": null,
            "width": null,
            "min_width": null,
            "border": null,
            "align_items": null,
            "bottom": null,
            "_model_module": "@jupyter-widgets/base",
            "top": null,
            "grid_column": null,
            "overflow_y": null,
            "overflow_x": null,
            "grid_auto_flow": null,
            "grid_area": null,
            "grid_template_columns": null,
            "flex": null,
            "_model_name": "LayoutModel",
            "justify_items": null,
            "grid_row": null,
            "max_height": null,
            "align_content": null,
            "visibility": null,
            "align_self": null,
            "height": null,
            "min_height": null,
            "padding": null,
            "grid_auto_rows": null,
            "grid_gap": null,
            "max_width": null,
            "order": null,
            "_view_module_version": "1.2.0",
            "grid_template_areas": null,
            "object_position": null,
            "object_fit": null,
            "grid_auto_columns": null,
            "margin": null,
            "display": null,
            "left": null
          }
        },
        "28cac098dddb4dba89a11d9ce6137981": {
          "model_module": "@jupyter-widgets/controls",
          "model_name": "FloatProgressModel",
          "state": {
            "_view_name": "ProgressView",
            "style": "IPY_MODEL_17654ff6c07d40daa3e996ba34b77105",
            "_dom_classes": [],
            "description": "",
            "_model_name": "FloatProgressModel",
            "bar_style": "success",
            "max": 29515,
            "_view_module": "@jupyter-widgets/controls",
            "_model_module_version": "1.5.0",
            "value": 29515,
            "_view_count": null,
            "_view_module_version": "1.5.0",
            "orientation": "horizontal",
            "min": 0,
            "description_tooltip": null,
            "_model_module": "@jupyter-widgets/controls",
            "layout": "IPY_MODEL_7ec01bd33bf54943b18b86ef7d546e13"
          }
        },
        "5b4ee5efa0284dd9835f991b978c4792": {
          "model_module": "@jupyter-widgets/controls",
          "model_name": "HTMLModel",
          "state": {
            "_view_name": "HTMLView",
            "style": "IPY_MODEL_ae53534b96994037b057ae3445f3b363",
            "_dom_classes": [],
            "description": "",
            "_model_name": "HTMLModel",
            "placeholder": "​",
            "_view_module": "@jupyter-widgets/controls",
            "_model_module_version": "1.5.0",
            "value": " 29696/? [01:48&lt;00:00, 274.54it/s]",
            "_view_count": null,
            "_view_module_version": "1.5.0",
            "description_tooltip": null,
            "_model_module": "@jupyter-widgets/controls",
            "layout": "IPY_MODEL_15c04e5c7ece481c944ee92051755109"
          }
        },
        "17654ff6c07d40daa3e996ba34b77105": {
          "model_module": "@jupyter-widgets/controls",
          "model_name": "ProgressStyleModel",
          "state": {
            "_view_name": "StyleView",
            "_model_name": "ProgressStyleModel",
            "description_width": "initial",
            "_view_module": "@jupyter-widgets/base",
            "_model_module_version": "1.5.0",
            "_view_count": null,
            "_view_module_version": "1.2.0",
            "bar_color": null,
            "_model_module": "@jupyter-widgets/controls"
          }
        },
        "7ec01bd33bf54943b18b86ef7d546e13": {
          "model_module": "@jupyter-widgets/base",
          "model_name": "LayoutModel",
          "state": {
            "_view_name": "LayoutView",
            "grid_template_rows": null,
            "right": null,
            "justify_content": null,
            "_view_module": "@jupyter-widgets/base",
            "overflow": null,
            "_model_module_version": "1.2.0",
            "_view_count": null,
            "flex_flow": null,
            "width": null,
            "min_width": null,
            "border": null,
            "align_items": null,
            "bottom": null,
            "_model_module": "@jupyter-widgets/base",
            "top": null,
            "grid_column": null,
            "overflow_y": null,
            "overflow_x": null,
            "grid_auto_flow": null,
            "grid_area": null,
            "grid_template_columns": null,
            "flex": null,
            "_model_name": "LayoutModel",
            "justify_items": null,
            "grid_row": null,
            "max_height": null,
            "align_content": null,
            "visibility": null,
            "align_self": null,
            "height": null,
            "min_height": null,
            "padding": null,
            "grid_auto_rows": null,
            "grid_gap": null,
            "max_width": null,
            "order": null,
            "_view_module_version": "1.2.0",
            "grid_template_areas": null,
            "object_position": null,
            "object_fit": null,
            "grid_auto_columns": null,
            "margin": null,
            "display": null,
            "left": null
          }
        },
        "ae53534b96994037b057ae3445f3b363": {
          "model_module": "@jupyter-widgets/controls",
          "model_name": "DescriptionStyleModel",
          "state": {
            "_view_name": "StyleView",
            "_model_name": "DescriptionStyleModel",
            "description_width": "",
            "_view_module": "@jupyter-widgets/base",
            "_model_module_version": "1.5.0",
            "_view_count": null,
            "_view_module_version": "1.2.0",
            "_model_module": "@jupyter-widgets/controls"
          }
        },
        "15c04e5c7ece481c944ee92051755109": {
          "model_module": "@jupyter-widgets/base",
          "model_name": "LayoutModel",
          "state": {
            "_view_name": "LayoutView",
            "grid_template_rows": null,
            "right": null,
            "justify_content": null,
            "_view_module": "@jupyter-widgets/base",
            "overflow": null,
            "_model_module_version": "1.2.0",
            "_view_count": null,
            "flex_flow": null,
            "width": null,
            "min_width": null,
            "border": null,
            "align_items": null,
            "bottom": null,
            "_model_module": "@jupyter-widgets/base",
            "top": null,
            "grid_column": null,
            "overflow_y": null,
            "overflow_x": null,
            "grid_auto_flow": null,
            "grid_area": null,
            "grid_template_columns": null,
            "flex": null,
            "_model_name": "LayoutModel",
            "justify_items": null,
            "grid_row": null,
            "max_height": null,
            "align_content": null,
            "visibility": null,
            "align_self": null,
            "height": null,
            "min_height": null,
            "padding": null,
            "grid_auto_rows": null,
            "grid_gap": null,
            "max_width": null,
            "order": null,
            "_view_module_version": "1.2.0",
            "grid_template_areas": null,
            "object_position": null,
            "object_fit": null,
            "grid_auto_columns": null,
            "margin": null,
            "display": null,
            "left": null
          }
        },
        "886c4d2663c24f22b78f23cb6cd631f3": {
          "model_module": "@jupyter-widgets/controls",
          "model_name": "HBoxModel",
          "state": {
            "_view_name": "HBoxView",
            "_dom_classes": [],
            "_model_name": "HBoxModel",
            "_view_module": "@jupyter-widgets/controls",
            "_model_module_version": "1.5.0",
            "_view_count": null,
            "_view_module_version": "1.5.0",
            "box_style": "",
            "layout": "IPY_MODEL_416a1fd6c1d4484b92714555d7402a37",
            "_model_module": "@jupyter-widgets/controls",
            "children": [
              "IPY_MODEL_fdc7c6094fcb433eb057f7e95d9dc518",
              "IPY_MODEL_3f1eedbdfbdb431a8f79020d52ba8775"
            ]
          }
        },
        "416a1fd6c1d4484b92714555d7402a37": {
          "model_module": "@jupyter-widgets/base",
          "model_name": "LayoutModel",
          "state": {
            "_view_name": "LayoutView",
            "grid_template_rows": null,
            "right": null,
            "justify_content": null,
            "_view_module": "@jupyter-widgets/base",
            "overflow": null,
            "_model_module_version": "1.2.0",
            "_view_count": null,
            "flex_flow": null,
            "width": null,
            "min_width": null,
            "border": null,
            "align_items": null,
            "bottom": null,
            "_model_module": "@jupyter-widgets/base",
            "top": null,
            "grid_column": null,
            "overflow_y": null,
            "overflow_x": null,
            "grid_auto_flow": null,
            "grid_area": null,
            "grid_template_columns": null,
            "flex": null,
            "_model_name": "LayoutModel",
            "justify_items": null,
            "grid_row": null,
            "max_height": null,
            "align_content": null,
            "visibility": null,
            "align_self": null,
            "height": null,
            "min_height": null,
            "padding": null,
            "grid_auto_rows": null,
            "grid_gap": null,
            "max_width": null,
            "order": null,
            "_view_module_version": "1.2.0",
            "grid_template_areas": null,
            "object_position": null,
            "object_fit": null,
            "grid_auto_columns": null,
            "margin": null,
            "display": null,
            "left": null
          }
        },
        "fdc7c6094fcb433eb057f7e95d9dc518": {
          "model_module": "@jupyter-widgets/controls",
          "model_name": "FloatProgressModel",
          "state": {
            "_view_name": "ProgressView",
            "style": "IPY_MODEL_89421d82c927488b83b13b0f1dab793f",
            "_dom_classes": [],
            "description": "",
            "_model_name": "FloatProgressModel",
            "bar_style": "success",
            "max": 4422102,
            "_view_module": "@jupyter-widgets/controls",
            "_model_module_version": "1.5.0",
            "value": 4422102,
            "_view_count": null,
            "_view_module_version": "1.5.0",
            "orientation": "horizontal",
            "min": 0,
            "description_tooltip": null,
            "_model_module": "@jupyter-widgets/controls",
            "layout": "IPY_MODEL_bd9be141614746ca8ae49f407ff24d9a"
          }
        },
        "3f1eedbdfbdb431a8f79020d52ba8775": {
          "model_module": "@jupyter-widgets/controls",
          "model_name": "HTMLModel",
          "state": {
            "_view_name": "HTMLView",
            "style": "IPY_MODEL_fe5c438f0dba465dbdb75af3f5c8611b",
            "_dom_classes": [],
            "description": "",
            "_model_name": "HTMLModel",
            "placeholder": "​",
            "_view_module": "@jupyter-widgets/controls",
            "_model_module_version": "1.5.0",
            "value": " 4422656/? [01:30&lt;00:00, 49068.25it/s]",
            "_view_count": null,
            "_view_module_version": "1.5.0",
            "description_tooltip": null,
            "_model_module": "@jupyter-widgets/controls",
            "layout": "IPY_MODEL_db9ee37caa0e4da3ae636a1748037e63"
          }
        },
        "89421d82c927488b83b13b0f1dab793f": {
          "model_module": "@jupyter-widgets/controls",
          "model_name": "ProgressStyleModel",
          "state": {
            "_view_name": "StyleView",
            "_model_name": "ProgressStyleModel",
            "description_width": "initial",
            "_view_module": "@jupyter-widgets/base",
            "_model_module_version": "1.5.0",
            "_view_count": null,
            "_view_module_version": "1.2.0",
            "bar_color": null,
            "_model_module": "@jupyter-widgets/controls"
          }
        },
        "bd9be141614746ca8ae49f407ff24d9a": {
          "model_module": "@jupyter-widgets/base",
          "model_name": "LayoutModel",
          "state": {
            "_view_name": "LayoutView",
            "grid_template_rows": null,
            "right": null,
            "justify_content": null,
            "_view_module": "@jupyter-widgets/base",
            "overflow": null,
            "_model_module_version": "1.2.0",
            "_view_count": null,
            "flex_flow": null,
            "width": null,
            "min_width": null,
            "border": null,
            "align_items": null,
            "bottom": null,
            "_model_module": "@jupyter-widgets/base",
            "top": null,
            "grid_column": null,
            "overflow_y": null,
            "overflow_x": null,
            "grid_auto_flow": null,
            "grid_area": null,
            "grid_template_columns": null,
            "flex": null,
            "_model_name": "LayoutModel",
            "justify_items": null,
            "grid_row": null,
            "max_height": null,
            "align_content": null,
            "visibility": null,
            "align_self": null,
            "height": null,
            "min_height": null,
            "padding": null,
            "grid_auto_rows": null,
            "grid_gap": null,
            "max_width": null,
            "order": null,
            "_view_module_version": "1.2.0",
            "grid_template_areas": null,
            "object_position": null,
            "object_fit": null,
            "grid_auto_columns": null,
            "margin": null,
            "display": null,
            "left": null
          }
        },
        "fe5c438f0dba465dbdb75af3f5c8611b": {
          "model_module": "@jupyter-widgets/controls",
          "model_name": "DescriptionStyleModel",
          "state": {
            "_view_name": "StyleView",
            "_model_name": "DescriptionStyleModel",
            "description_width": "",
            "_view_module": "@jupyter-widgets/base",
            "_model_module_version": "1.5.0",
            "_view_count": null,
            "_view_module_version": "1.2.0",
            "_model_module": "@jupyter-widgets/controls"
          }
        },
        "db9ee37caa0e4da3ae636a1748037e63": {
          "model_module": "@jupyter-widgets/base",
          "model_name": "LayoutModel",
          "state": {
            "_view_name": "LayoutView",
            "grid_template_rows": null,
            "right": null,
            "justify_content": null,
            "_view_module": "@jupyter-widgets/base",
            "overflow": null,
            "_model_module_version": "1.2.0",
            "_view_count": null,
            "flex_flow": null,
            "width": null,
            "min_width": null,
            "border": null,
            "align_items": null,
            "bottom": null,
            "_model_module": "@jupyter-widgets/base",
            "top": null,
            "grid_column": null,
            "overflow_y": null,
            "overflow_x": null,
            "grid_auto_flow": null,
            "grid_area": null,
            "grid_template_columns": null,
            "flex": null,
            "_model_name": "LayoutModel",
            "justify_items": null,
            "grid_row": null,
            "max_height": null,
            "align_content": null,
            "visibility": null,
            "align_self": null,
            "height": null,
            "min_height": null,
            "padding": null,
            "grid_auto_rows": null,
            "grid_gap": null,
            "max_width": null,
            "order": null,
            "_view_module_version": "1.2.0",
            "grid_template_areas": null,
            "object_position": null,
            "object_fit": null,
            "grid_auto_columns": null,
            "margin": null,
            "display": null,
            "left": null
          }
        },
        "9afc9621084c4dc78cbd7d936605a655": {
          "model_module": "@jupyter-widgets/controls",
          "model_name": "HBoxModel",
          "state": {
            "_view_name": "HBoxView",
            "_dom_classes": [],
            "_model_name": "HBoxModel",
            "_view_module": "@jupyter-widgets/controls",
            "_model_module_version": "1.5.0",
            "_view_count": null,
            "_view_module_version": "1.5.0",
            "box_style": "",
            "layout": "IPY_MODEL_ab75457720e04ef1a57e57bf8af14b3f",
            "_model_module": "@jupyter-widgets/controls",
            "children": [
              "IPY_MODEL_2ad09d31576b41bdbaed20e44c724c98",
              "IPY_MODEL_309b8a0cf67e43319282a673d0cb2e77"
            ]
          }
        },
        "ab75457720e04ef1a57e57bf8af14b3f": {
          "model_module": "@jupyter-widgets/base",
          "model_name": "LayoutModel",
          "state": {
            "_view_name": "LayoutView",
            "grid_template_rows": null,
            "right": null,
            "justify_content": null,
            "_view_module": "@jupyter-widgets/base",
            "overflow": null,
            "_model_module_version": "1.2.0",
            "_view_count": null,
            "flex_flow": null,
            "width": null,
            "min_width": null,
            "border": null,
            "align_items": null,
            "bottom": null,
            "_model_module": "@jupyter-widgets/base",
            "top": null,
            "grid_column": null,
            "overflow_y": null,
            "overflow_x": null,
            "grid_auto_flow": null,
            "grid_area": null,
            "grid_template_columns": null,
            "flex": null,
            "_model_name": "LayoutModel",
            "justify_items": null,
            "grid_row": null,
            "max_height": null,
            "align_content": null,
            "visibility": null,
            "align_self": null,
            "height": null,
            "min_height": null,
            "padding": null,
            "grid_auto_rows": null,
            "grid_gap": null,
            "max_width": null,
            "order": null,
            "_view_module_version": "1.2.0",
            "grid_template_areas": null,
            "object_position": null,
            "object_fit": null,
            "grid_auto_columns": null,
            "margin": null,
            "display": null,
            "left": null
          }
        },
        "2ad09d31576b41bdbaed20e44c724c98": {
          "model_module": "@jupyter-widgets/controls",
          "model_name": "FloatProgressModel",
          "state": {
            "_view_name": "ProgressView",
            "style": "IPY_MODEL_2e92a3a7461d453d8e0472a6ae97f015",
            "_dom_classes": [],
            "description": "",
            "_model_name": "FloatProgressModel",
            "bar_style": "success",
            "max": 5148,
            "_view_module": "@jupyter-widgets/controls",
            "_model_module_version": "1.5.0",
            "value": 5148,
            "_view_count": null,
            "_view_module_version": "1.5.0",
            "orientation": "horizontal",
            "min": 0,
            "description_tooltip": null,
            "_model_module": "@jupyter-widgets/controls",
            "layout": "IPY_MODEL_69d31eaf09bc4ac18a98299bcc08ad7f"
          }
        },
        "309b8a0cf67e43319282a673d0cb2e77": {
          "model_module": "@jupyter-widgets/controls",
          "model_name": "HTMLModel",
          "state": {
            "_view_name": "HTMLView",
            "style": "IPY_MODEL_88006e75311c4cfd8deb721f67017e47",
            "_dom_classes": [],
            "description": "",
            "_model_name": "HTMLModel",
            "placeholder": "​",
            "_view_module": "@jupyter-widgets/controls",
            "_model_module_version": "1.5.0",
            "value": " 6144/? [01:28&lt;00:00, 69.21it/s]",
            "_view_count": null,
            "_view_module_version": "1.5.0",
            "description_tooltip": null,
            "_model_module": "@jupyter-widgets/controls",
            "layout": "IPY_MODEL_f235c36b83e149fba100e14d4a39bf6e"
          }
        },
        "2e92a3a7461d453d8e0472a6ae97f015": {
          "model_module": "@jupyter-widgets/controls",
          "model_name": "ProgressStyleModel",
          "state": {
            "_view_name": "StyleView",
            "_model_name": "ProgressStyleModel",
            "description_width": "initial",
            "_view_module": "@jupyter-widgets/base",
            "_model_module_version": "1.5.0",
            "_view_count": null,
            "_view_module_version": "1.2.0",
            "bar_color": null,
            "_model_module": "@jupyter-widgets/controls"
          }
        },
        "69d31eaf09bc4ac18a98299bcc08ad7f": {
          "model_module": "@jupyter-widgets/base",
          "model_name": "LayoutModel",
          "state": {
            "_view_name": "LayoutView",
            "grid_template_rows": null,
            "right": null,
            "justify_content": null,
            "_view_module": "@jupyter-widgets/base",
            "overflow": null,
            "_model_module_version": "1.2.0",
            "_view_count": null,
            "flex_flow": null,
            "width": null,
            "min_width": null,
            "border": null,
            "align_items": null,
            "bottom": null,
            "_model_module": "@jupyter-widgets/base",
            "top": null,
            "grid_column": null,
            "overflow_y": null,
            "overflow_x": null,
            "grid_auto_flow": null,
            "grid_area": null,
            "grid_template_columns": null,
            "flex": null,
            "_model_name": "LayoutModel",
            "justify_items": null,
            "grid_row": null,
            "max_height": null,
            "align_content": null,
            "visibility": null,
            "align_self": null,
            "height": null,
            "min_height": null,
            "padding": null,
            "grid_auto_rows": null,
            "grid_gap": null,
            "max_width": null,
            "order": null,
            "_view_module_version": "1.2.0",
            "grid_template_areas": null,
            "object_position": null,
            "object_fit": null,
            "grid_auto_columns": null,
            "margin": null,
            "display": null,
            "left": null
          }
        },
        "88006e75311c4cfd8deb721f67017e47": {
          "model_module": "@jupyter-widgets/controls",
          "model_name": "DescriptionStyleModel",
          "state": {
            "_view_name": "StyleView",
            "_model_name": "DescriptionStyleModel",
            "description_width": "",
            "_view_module": "@jupyter-widgets/base",
            "_model_module_version": "1.5.0",
            "_view_count": null,
            "_view_module_version": "1.2.0",
            "_model_module": "@jupyter-widgets/controls"
          }
        },
        "f235c36b83e149fba100e14d4a39bf6e": {
          "model_module": "@jupyter-widgets/base",
          "model_name": "LayoutModel",
          "state": {
            "_view_name": "LayoutView",
            "grid_template_rows": null,
            "right": null,
            "justify_content": null,
            "_view_module": "@jupyter-widgets/base",
            "overflow": null,
            "_model_module_version": "1.2.0",
            "_view_count": null,
            "flex_flow": null,
            "width": null,
            "min_width": null,
            "border": null,
            "align_items": null,
            "bottom": null,
            "_model_module": "@jupyter-widgets/base",
            "top": null,
            "grid_column": null,
            "overflow_y": null,
            "overflow_x": null,
            "grid_auto_flow": null,
            "grid_area": null,
            "grid_template_columns": null,
            "flex": null,
            "_model_name": "LayoutModel",
            "justify_items": null,
            "grid_row": null,
            "max_height": null,
            "align_content": null,
            "visibility": null,
            "align_self": null,
            "height": null,
            "min_height": null,
            "padding": null,
            "grid_auto_rows": null,
            "grid_gap": null,
            "max_width": null,
            "order": null,
            "_view_module_version": "1.2.0",
            "grid_template_areas": null,
            "object_position": null,
            "object_fit": null,
            "grid_auto_columns": null,
            "margin": null,
            "display": null,
            "left": null
          }
        }
      }
    }
  },
  "cells": [
    {
      "cell_type": "markdown",
      "metadata": {
        "id": "view-in-github",
        "colab_type": "text"
      },
      "source": [
        "<a href=\"https://colab.research.google.com/github/NTHieu2k1/Fashion_Classification_SVM/blob/main/Fashion-MNIST_first_analyse.ipynb\" target=\"_parent\"><img src=\"https://colab.research.google.com/assets/colab-badge.svg\" alt=\"Open In Colab\"/></a>"
      ]
    },
    {
      "cell_type": "code",
      "metadata": {
        "id": "kp2hw-5wbeTw"
      },
      "source": [
        "import numpy as np\n",
        "import matplotlib.pyplot as plt\n",
        "import torch\n",
        "from torchvision import datasets, transforms\n",
        "%matplotlib inline"
      ],
      "execution_count": null,
      "outputs": []
    },
    {
      "cell_type": "code",
      "metadata": {
        "id": "hdNfv6n4dppt"
      },
      "source": [
        "# Create a transform method\n",
        "transform = transforms.Compose([\n",
        "    transforms.ToTensor(),\n",
        "])"
      ],
      "execution_count": null,
      "outputs": []
    },
    {
      "cell_type": "code",
      "metadata": {
        "colab": {
          "base_uri": "https://localhost:8080/",
          "height": 1000,
          "referenced_widgets": [
            "359446e0e5cb4d9eb489c3c6acce9967",
            "0811ff0681c041cb8ba9e5cca33e9cbb",
            "aef9207283004f4eb7c3abcc9975f9ea",
            "ccfdc3a9c5c84a31a5f5a39959a629b6",
            "bd4da9fcd39449b8aad603ac370856ce",
            "ccde310cf16f4943b99c1b2bc16d96c2",
            "79a13965051345b392d25e639b947be0",
            "44b7801f5e994e549b4f49766d7f5f19",
            "d2fe42fac58b40ca9a44bff7c13affb0",
            "cd989ca5e8e64194ad6e99aa5874d296",
            "53bda3919c6f4a3996dc1b197fe4197c",
            "077c36f659da46ea936f360f6027cf4f",
            "a89ce52b1d5b4256b2d45386e2fc18bd",
            "a2b0e1092b574b289c7da0d3e18918b9",
            "a3945677d5804759845c1b4abb9a41ce",
            "2a042e91262e4764ab052304bb7b7c1c",
            "c865c2626f4c46ed9234393bafe0b0f1",
            "9c3cbfa0475f43808a5d8ec10bc01bed",
            "711d6af922304be6b3585b76a69e29ab",
            "e7b9947b7f864615b3d872eec6134ca4",
            "f0128b52b79f42d49077358bad104f4a",
            "59278e219740419f93088bb1113aab68",
            "302608ddeb2c4b40b4fbbea215464486",
            "9002f83b7dff4405b0234119b323da0d",
            "a1309cee9ae74ec3849e4ba8bd8aff45",
            "d53d5e0258b14afcb9dfd84faadbd66b",
            "4fba322419d54ac78f533371cc77656f",
            "f0f2fff51aab4658ad5ce507e27825f6",
            "05d7b1dce5b847158e8d7f9f2a07c4cf",
            "6601960ab6794e76b068513565418ec0",
            "74a1885562044dc1a5c88b7e8e734136",
            "88fb06a445104934bdf0fcddd266ec24",
            "014b535ca8c54855b3a7f98f0ba422e5",
            "669ad9428f214419aaf340b3681febeb",
            "5101507bb6f143c097d0f8f09435fd61",
            "45e5d22061bd41a985d055141a5dadd5",
            "6bc933eefad94cb2a7945f93998eb1c2",
            "940211cb7675457cab60ae844b524da7",
            "462b4bea25764e84aa8ab8610f85bd4e",
            "1e619aeb099647bb93a7ec45dc9fb287",
            "ceb108c5d6f244d68dac35102990aa86",
            "7f32014864cb4ab8a45a9075e0bbaaca",
            "28cac098dddb4dba89a11d9ce6137981",
            "5b4ee5efa0284dd9835f991b978c4792",
            "17654ff6c07d40daa3e996ba34b77105",
            "7ec01bd33bf54943b18b86ef7d546e13",
            "ae53534b96994037b057ae3445f3b363",
            "15c04e5c7ece481c944ee92051755109",
            "886c4d2663c24f22b78f23cb6cd631f3",
            "416a1fd6c1d4484b92714555d7402a37",
            "fdc7c6094fcb433eb057f7e95d9dc518",
            "3f1eedbdfbdb431a8f79020d52ba8775",
            "89421d82c927488b83b13b0f1dab793f",
            "bd9be141614746ca8ae49f407ff24d9a",
            "fe5c438f0dba465dbdb75af3f5c8611b",
            "db9ee37caa0e4da3ae636a1748037e63",
            "9afc9621084c4dc78cbd7d936605a655",
            "ab75457720e04ef1a57e57bf8af14b3f",
            "2ad09d31576b41bdbaed20e44c724c98",
            "309b8a0cf67e43319282a673d0cb2e77",
            "2e92a3a7461d453d8e0472a6ae97f015",
            "69d31eaf09bc4ac18a98299bcc08ad7f",
            "88006e75311c4cfd8deb721f67017e47",
            "f235c36b83e149fba100e14d4a39bf6e"
          ]
        },
        "id": "zChZSBGOl4EP",
        "outputId": "72417dde-88ac-4464-c536-fc07e5ed980c"
      },
      "source": [
        "# Get the dataset (applying the transform method)\n",
        "train_set = datasets.FashionMNIST('Train_Fashion_MNIST', train=True, download=True, transform=transform)\n",
        "test_set = datasets.FashionMNIST('Test_Fashion_MNIST', train=False, download=True, transform=transform)"
      ],
      "execution_count": null,
      "outputs": [
        {
          "output_type": "stream",
          "text": [
            "Downloading http://fashion-mnist.s3-website.eu-central-1.amazonaws.com/train-images-idx3-ubyte.gz\n",
            "Downloading http://fashion-mnist.s3-website.eu-central-1.amazonaws.com/train-images-idx3-ubyte.gz to Train_Fashion_MNIST/FashionMNIST/raw/train-images-idx3-ubyte.gz\n"
          ],
          "name": "stdout"
        },
        {
          "output_type": "display_data",
          "data": {
            "application/vnd.jupyter.widget-view+json": {
              "model_id": "359446e0e5cb4d9eb489c3c6acce9967",
              "version_minor": 0,
              "version_major": 2
            },
            "text/plain": [
              "HBox(children=(FloatProgress(value=0.0, max=26421880.0), HTML(value='')))"
            ]
          },
          "metadata": {
            "tags": []
          }
        },
        {
          "output_type": "stream",
          "text": [
            "\n",
            "Extracting Train_Fashion_MNIST/FashionMNIST/raw/train-images-idx3-ubyte.gz to Train_Fashion_MNIST/FashionMNIST/raw\n",
            "\n",
            "Downloading http://fashion-mnist.s3-website.eu-central-1.amazonaws.com/train-labels-idx1-ubyte.gz\n",
            "Downloading http://fashion-mnist.s3-website.eu-central-1.amazonaws.com/train-labels-idx1-ubyte.gz to Train_Fashion_MNIST/FashionMNIST/raw/train-labels-idx1-ubyte.gz\n"
          ],
          "name": "stdout"
        },
        {
          "output_type": "display_data",
          "data": {
            "application/vnd.jupyter.widget-view+json": {
              "model_id": "d2fe42fac58b40ca9a44bff7c13affb0",
              "version_minor": 0,
              "version_major": 2
            },
            "text/plain": [
              "HBox(children=(FloatProgress(value=0.0, max=29515.0), HTML(value='')))"
            ]
          },
          "metadata": {
            "tags": []
          }
        },
        {
          "output_type": "stream",
          "text": [
            "\n",
            "Extracting Train_Fashion_MNIST/FashionMNIST/raw/train-labels-idx1-ubyte.gz to Train_Fashion_MNIST/FashionMNIST/raw\n",
            "\n",
            "Downloading http://fashion-mnist.s3-website.eu-central-1.amazonaws.com/t10k-images-idx3-ubyte.gz\n",
            "Downloading http://fashion-mnist.s3-website.eu-central-1.amazonaws.com/t10k-images-idx3-ubyte.gz to Train_Fashion_MNIST/FashionMNIST/raw/t10k-images-idx3-ubyte.gz\n"
          ],
          "name": "stdout"
        },
        {
          "output_type": "display_data",
          "data": {
            "application/vnd.jupyter.widget-view+json": {
              "model_id": "c865c2626f4c46ed9234393bafe0b0f1",
              "version_minor": 0,
              "version_major": 2
            },
            "text/plain": [
              "HBox(children=(FloatProgress(value=0.0, max=4422102.0), HTML(value='')))"
            ]
          },
          "metadata": {
            "tags": []
          }
        },
        {
          "output_type": "stream",
          "text": [
            "\n",
            "Extracting Train_Fashion_MNIST/FashionMNIST/raw/t10k-images-idx3-ubyte.gz to Train_Fashion_MNIST/FashionMNIST/raw\n",
            "\n",
            "Downloading http://fashion-mnist.s3-website.eu-central-1.amazonaws.com/t10k-labels-idx1-ubyte.gz\n",
            "Downloading http://fashion-mnist.s3-website.eu-central-1.amazonaws.com/t10k-labels-idx1-ubyte.gz to Train_Fashion_MNIST/FashionMNIST/raw/t10k-labels-idx1-ubyte.gz\n"
          ],
          "name": "stdout"
        },
        {
          "output_type": "display_data",
          "data": {
            "application/vnd.jupyter.widget-view+json": {
              "model_id": "a1309cee9ae74ec3849e4ba8bd8aff45",
              "version_minor": 0,
              "version_major": 2
            },
            "text/plain": [
              "HBox(children=(FloatProgress(value=0.0, max=5148.0), HTML(value='')))"
            ]
          },
          "metadata": {
            "tags": []
          }
        },
        {
          "output_type": "stream",
          "text": [
            "\n",
            "Extracting Train_Fashion_MNIST/FashionMNIST/raw/t10k-labels-idx1-ubyte.gz to Train_Fashion_MNIST/FashionMNIST/raw\n",
            "\n",
            "Downloading http://fashion-mnist.s3-website.eu-central-1.amazonaws.com/train-images-idx3-ubyte.gz\n"
          ],
          "name": "stdout"
        },
        {
          "output_type": "stream",
          "text": [
            "/usr/local/lib/python3.7/dist-packages/torchvision/datasets/mnist.py:498: UserWarning: The given NumPy array is not writeable, and PyTorch does not support non-writeable tensors. This means you can write to the underlying (supposedly non-writeable) NumPy array using the tensor. You may want to copy the array to protect its data or make it writeable before converting it to a tensor. This type of warning will be suppressed for the rest of this program. (Triggered internally at  /pytorch/torch/csrc/utils/tensor_numpy.cpp:180.)\n",
            "  return torch.from_numpy(parsed.astype(m[2], copy=False)).view(*s)\n"
          ],
          "name": "stderr"
        },
        {
          "output_type": "stream",
          "text": [
            "Downloading http://fashion-mnist.s3-website.eu-central-1.amazonaws.com/train-images-idx3-ubyte.gz to Test_Fashion_MNIST/FashionMNIST/raw/train-images-idx3-ubyte.gz\n"
          ],
          "name": "stdout"
        },
        {
          "output_type": "display_data",
          "data": {
            "application/vnd.jupyter.widget-view+json": {
              "model_id": "014b535ca8c54855b3a7f98f0ba422e5",
              "version_minor": 0,
              "version_major": 2
            },
            "text/plain": [
              "HBox(children=(FloatProgress(value=0.0, max=26421880.0), HTML(value='')))"
            ]
          },
          "metadata": {
            "tags": []
          }
        },
        {
          "output_type": "stream",
          "text": [
            "\n",
            "Extracting Test_Fashion_MNIST/FashionMNIST/raw/train-images-idx3-ubyte.gz to Test_Fashion_MNIST/FashionMNIST/raw\n",
            "\n",
            "Downloading http://fashion-mnist.s3-website.eu-central-1.amazonaws.com/train-labels-idx1-ubyte.gz\n",
            "Downloading http://fashion-mnist.s3-website.eu-central-1.amazonaws.com/train-labels-idx1-ubyte.gz to Test_Fashion_MNIST/FashionMNIST/raw/train-labels-idx1-ubyte.gz\n"
          ],
          "name": "stdout"
        },
        {
          "output_type": "display_data",
          "data": {
            "application/vnd.jupyter.widget-view+json": {
              "model_id": "ceb108c5d6f244d68dac35102990aa86",
              "version_minor": 0,
              "version_major": 2
            },
            "text/plain": [
              "HBox(children=(FloatProgress(value=0.0, max=29515.0), HTML(value='')))"
            ]
          },
          "metadata": {
            "tags": []
          }
        },
        {
          "output_type": "stream",
          "text": [
            "\n",
            "Extracting Test_Fashion_MNIST/FashionMNIST/raw/train-labels-idx1-ubyte.gz to Test_Fashion_MNIST/FashionMNIST/raw\n",
            "\n",
            "Downloading http://fashion-mnist.s3-website.eu-central-1.amazonaws.com/t10k-images-idx3-ubyte.gz\n",
            "Downloading http://fashion-mnist.s3-website.eu-central-1.amazonaws.com/t10k-images-idx3-ubyte.gz to Test_Fashion_MNIST/FashionMNIST/raw/t10k-images-idx3-ubyte.gz\n"
          ],
          "name": "stdout"
        },
        {
          "output_type": "display_data",
          "data": {
            "application/vnd.jupyter.widget-view+json": {
              "model_id": "886c4d2663c24f22b78f23cb6cd631f3",
              "version_minor": 0,
              "version_major": 2
            },
            "text/plain": [
              "HBox(children=(FloatProgress(value=0.0, max=4422102.0), HTML(value='')))"
            ]
          },
          "metadata": {
            "tags": []
          }
        },
        {
          "output_type": "stream",
          "text": [
            "\n",
            "Extracting Test_Fashion_MNIST/FashionMNIST/raw/t10k-images-idx3-ubyte.gz to Test_Fashion_MNIST/FashionMNIST/raw\n",
            "\n",
            "Downloading http://fashion-mnist.s3-website.eu-central-1.amazonaws.com/t10k-labels-idx1-ubyte.gz\n",
            "Downloading http://fashion-mnist.s3-website.eu-central-1.amazonaws.com/t10k-labels-idx1-ubyte.gz to Test_Fashion_MNIST/FashionMNIST/raw/t10k-labels-idx1-ubyte.gz\n"
          ],
          "name": "stdout"
        },
        {
          "output_type": "display_data",
          "data": {
            "application/vnd.jupyter.widget-view+json": {
              "model_id": "9afc9621084c4dc78cbd7d936605a655",
              "version_minor": 0,
              "version_major": 2
            },
            "text/plain": [
              "HBox(children=(FloatProgress(value=0.0, max=5148.0), HTML(value='')))"
            ]
          },
          "metadata": {
            "tags": []
          }
        },
        {
          "output_type": "stream",
          "text": [
            "\n",
            "Extracting Test_Fashion_MNIST/FashionMNIST/raw/t10k-labels-idx1-ubyte.gz to Test_Fashion_MNIST/FashionMNIST/raw\n",
            "\n"
          ],
          "name": "stdout"
        }
      ]
    },
    {
      "cell_type": "code",
      "metadata": {
        "colab": {
          "base_uri": "https://localhost:8080/"
        },
        "id": "epW3qXvTqdbb",
        "outputId": "57327c80-5d34-4919-a3c1-83d9a0012f88"
      },
      "source": [
        "# Show size of every sets\n",
        "print('Size of training set: {}'.format(len(train_set)))\n",
        "print('Size of test set: {}'.format(len(test_set)))"
      ],
      "execution_count": null,
      "outputs": [
        {
          "output_type": "stream",
          "text": [
            "Size of training set: 60000\n",
            "Size of test set: 10000\n"
          ],
          "name": "stdout"
        }
      ]
    },
    {
      "cell_type": "code",
      "metadata": {
        "id": "V1_2fgauqySd"
      },
      "source": [
        "# Load every sets\n",
        "train_data = torch.utils.data.DataLoader(train_set, batch_size=32, shuffle=True)\n",
        "test_data = torch.utils.data.DataLoader(test_set, batch_size=32)"
      ],
      "execution_count": null,
      "outputs": []
    },
    {
      "cell_type": "code",
      "metadata": {
        "colab": {
          "base_uri": "https://localhost:8080/"
        },
        "id": "7lw8rDvKrn19",
        "outputId": "3d251d1a-255a-40fb-ae45-93c7dd19cf5d"
      },
      "source": [
        "# Brief analyze the training data\n",
        "print('Number of batches in training data: {}'.format(len(train_data)))\n",
        "print('Batch size: {}'.format(train_data.batch_size))"
      ],
      "execution_count": null,
      "outputs": [
        {
          "output_type": "stream",
          "text": [
            "Number of batches in training data: 1875\n",
            "Batch size: 32\n"
          ],
          "name": "stdout"
        }
      ]
    },
    {
      "cell_type": "code",
      "metadata": {
        "colab": {
          "base_uri": "https://localhost:8080/"
        },
        "id": "AvfveCTIsk-F",
        "outputId": "38815c76-5b68-4bf6-afab-8597642406ff"
      },
      "source": [
        "# Go into a batch\n",
        "batch_iter = iter(train_data)\n",
        "batch = next(batch_iter)\n",
        "images, labels = batch\n",
        "print('Shape of image batch: {}'.format(images.shape))\n",
        "print('Shape of label batch: {}'.format(labels.shape))\n",
        "print('\\nNumber of images in the batch: {}'.format(images.shape[0]))\n",
        "print('Size of each image: {0}x{1}'.format(images.shape[2], images.shape[3]))\n",
        "print('Number of channels: {}'.format(images.shape[1]))\n",
        "print('Number of labels: {}'.format(labels.shape[0]))"
      ],
      "execution_count": null,
      "outputs": [
        {
          "output_type": "stream",
          "text": [
            "Shape of image batch: torch.Size([32, 1, 28, 28])\n",
            "Shape of label batch: torch.Size([32])\n",
            "\n",
            "Number of images in the batch: 32\n",
            "Size of each image: 28x28\n",
            "Number of channels: 1\n",
            "Number of labels: 32\n"
          ],
          "name": "stdout"
        }
      ]
    },
    {
      "cell_type": "code",
      "metadata": {
        "colab": {
          "base_uri": "https://localhost:8080/",
          "height": 316
        },
        "id": "HXi-PRgPs6c5",
        "outputId": "12409411-83b1-4847-e868-57dd189fefeb"
      },
      "source": [
        "# Visualize an image example\n",
        "sample_img = images[0, 0]\n",
        "print('Visualize image example:')\n",
        "plt.imshow(sample_img, cmap='gray')\n",
        "plt.show()\n",
        "print('\\nLabel: {}'.format(labels[0]))"
      ],
      "execution_count": null,
      "outputs": [
        {
          "output_type": "stream",
          "text": [
            "Visualize image example:\n"
          ],
          "name": "stdout"
        },
        {
          "output_type": "display_data",
          "data": {
            "image/png": "[encoded data removed]",
            "text/plain": [
              "<Figure size 432x288 with 1 Axes>"
            ]
          },
          "metadata": {
            "tags": [],
            "needs_background": "light"
          }
        },
        {
          "output_type": "stream",
          "text": [
            "\n",
            "Label: 5\n"
          ],
          "name": "stdout"
        }
      ]
    },
    {
      "cell_type": "markdown",
      "metadata": {
        "id": "mvxvXpMA86xy"
      },
      "source": [
        "![image.png](data:image/png;base64,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)"
      ]
    },
    {
      "cell_type": "code",
      "metadata": {
        "colab": {
          "base_uri": "https://localhost:8080/",
          "height": 469
        },
        "id": "t9_MYl3ox2te",
        "outputId": "89e867a1-c1c9-4cf0-baf8-ca4e1ca3c077"
      },
      "source": [
        "# Go deep into the image\n",
        "crop_img = sample_img[10:19, 10:19]     # Crop size is 9x9\n",
        "print('Visualize part of image:')\n",
        "plt.imshow(crop_img, cmap='gray')\n",
        "plt.show()\n",
        "print('\\nShow pixel values:')\n",
        "print(crop_img)"
      ],
      "execution_count": null,
      "outputs": [
        {
          "output_type": "stream",
          "text": [
            "Visualize part of image:\n"
          ],
          "name": "stdout"
        },
        {
          "output_type": "display_data",
          "data": {
            "image/png": "[encoded data removed]",
            "text/plain": [
              "<Figure size 432x288 with 1 Axes>"
            ]
          },
          "metadata": {
            "tags": [],
            "needs_background": "light"
          }
        },
        {
          "output_type": "stream",
          "text": [
            "\n",
            "Show pixel values:\n",
            "tensor([[0.0000, 0.0000, 0.0314, 0.1216, 0.6392, 0.3686, 0.0000, 0.0000, 0.0039],\n",
            "        [0.0000, 0.4118, 0.5451, 0.2902, 0.5137, 0.7137, 0.3725, 0.0000, 0.0000],\n",
            "        [0.5451, 0.5333, 0.4784, 0.4627, 0.4235, 0.5922, 0.6000, 0.3216, 0.0000],\n",
            "        [0.0706, 0.0000, 0.0000, 0.0157, 0.2431, 0.4784, 0.8078, 0.5804, 0.1137],\n",
            "        [0.0000, 0.0000, 0.0000, 0.0000, 0.0000, 0.2980, 0.6000, 0.8353, 0.6078],\n",
            "        [0.0000, 0.0000, 0.0000, 0.0078, 0.1843, 0.3882, 0.2941, 0.8353, 0.8196],\n",
            "        [0.3882, 0.5020, 0.7255, 0.7961, 0.7765, 1.0000, 0.2275, 0.5451, 0.8980],\n",
            "        [0.8314, 0.8314, 0.8235, 0.8196, 0.7843, 0.9490, 0.6353, 0.2706, 0.9647],\n",
            "        [0.5294, 0.5137, 0.5059, 0.4941, 0.4157, 0.5059, 0.5569, 0.5569, 0.5569]])\n"
          ],
          "name": "stdout"
        }
      ]
    },
    {
      "cell_type": "code",
      "metadata": {
        "colab": {
          "base_uri": "https://localhost:8080/",
          "height": 299
        },
        "id": "Y9jsToUQ0Ogx",
        "outputId": "b3f0b36a-bc80-45ae-bf06-42ec2d125030"
      },
      "source": [
        "# Visualize next 5 images with their labels\n",
        "print('Visualize 5 images:')\n",
        "img_array = images[1:6, 0]\n",
        "label_array = labels[1:6]\n",
        "fig, axes = plt.subplots(1, 5, figsize=(16, 3))\n",
        "axes = axes.flatten()\n",
        "for image, ax in zip(img_array, axes):\n",
        "    ax.imshow(image, cmap='gray')\n",
        "plt.tight_layout()\n",
        "plt.show()\n",
        "print('\\nTheir labels:\\n{}'.format(label_array))"
      ],
      "execution_count": null,
      "outputs": [
        {
          "output_type": "stream",
          "text": [
            "Visualize 5 images:\n"
          ],
          "name": "stdout"
        },
        {
          "output_type": "display_data",
          "data": {
            "image/png": "[encoded data removed]",
            "text/plain": [
              "<Figure size 1152x216 with 5 Axes>"
            ]
          },
          "metadata": {
            "tags": [],
            "needs_background": "light"
          }
        },
        {
          "output_type": "stream",
          "text": [
            "\n",
            "Their labels:\n",
            "tensor([8, 5, 3, 4, 4])\n"
          ],
          "name": "stdout"
        }
      ]
    },
    {
      "cell_type": "code",
      "metadata": {
        "id": "8fA7bm73-TL3"
      },
      "source": [
        "# Labels: bag, sandal, dress, coat, coat"
      ],
      "execution_count": null,
      "outputs": []
    }
  ]
}